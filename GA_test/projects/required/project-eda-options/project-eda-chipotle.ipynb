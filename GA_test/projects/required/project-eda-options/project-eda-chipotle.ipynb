{
 "cells": [
  {
   "cell_type": "markdown",
   "metadata": {},
   "source": [
    "<img src=\"http://imgur.com/1ZcRyrc.png\" style=\"float: left; margin: 20px; height: 55px\">\n",
    "\n",
    "# Project 2: Analyzing Chipotle Data\n",
    "\n",
    "_Author: Joseph Nelson (DC)_\n",
    "\n",
    "---"
   ]
  },
  {
   "cell_type": "markdown",
   "metadata": {},
   "source": [
    "For Project 2, you will complete a series of exercises exploring [order data from Chipotle](https://github.com/TheUpshot/chipotle), compliments of _The New York Times'_ \"The Upshot.\"\n",
    "\n",
    "For these exercises, you will conduct basic exploratory data analysis (Pandas not required) to understand the essentials of Chipotle's order data: how many orders are being made, the average price per order, how many different ingredients are used, etc. These allow you to practice business analysis skills while also becoming comfortable with Python."
   ]
  },
  {
   "cell_type": "markdown",
   "metadata": {},
   "source": [
    "---\n",
    "\n",
    "## Basic Level"
   ]
  },
  {
   "cell_type": "markdown",
   "metadata": {},
   "source": [
    "### Part 1: Read in the file with `csv.reader()` and store it in an object called `file_nested_list`.\n",
    "\n",
    "Hint: This is a TSV (tab-separated value) file, and `csv.reader()` needs to be told [how to handle it](https://docs.python.org/2/library/csv.html)."
   ]
  },
  {
   "cell_type": "code",
   "execution_count": 20,
   "metadata": {},
   "outputs": [],
   "source": [
    "import csv\n",
    "from collections import namedtuple   # Convenient to store the data rows\n",
    "\n",
    "DATA_FILE = './data/chipotle.tsv'\n",
    "file_nested_list = []\n",
    "\n",
    "with open(DATA_FILE, 'r') as csvfile:\n",
    "    reader = csv.reader(csvfile, delimiter = '\\t')\n",
    "    for line in reader:\n",
    "        file_nested_list.append(line)"
   ]
  },
  {
   "cell_type": "markdown",
   "metadata": {},
   "source": [
    "### Part 2: Separate `file_nested_list` into the `header` and the `data`.\n"
   ]
  },
  {
   "cell_type": "code",
   "execution_count": 21,
   "metadata": {
    "collapsed": true
   },
   "outputs": [],
   "source": [
    "# The header is the first row, the other rows are data\n",
    "header = file_nested_list[0]\n",
    "data = file_nested_list[1:]"
   ]
  },
  {
   "cell_type": "markdown",
   "metadata": {},
   "source": [
    "---\n",
    "\n",
    "## Intermediate Level"
   ]
  },
  {
   "cell_type": "markdown",
   "metadata": {},
   "source": [
    "### Part 3: Calculate the average price of an order.\n",
    "\n",
    "Hint: Examine the data to see if the `quantity` column is relevant to this calculation.\n",
    "\n",
    "Hint: Think carefully about the simplest way to do this!"
   ]
  },
  {
   "cell_type": "code",
   "execution_count": 57,
   "metadata": {
    "collapsed": true
   },
   "outputs": [
    {
     "name": "stdout",
     "output_type": "stream",
     "text": [
      "['order_id', 'quantity', 'item_name', 'choice_description', 'item_price']\n",
      "['1', '1', 'Chips and Fresh Tomato Salsa', 'NULL', '$2.39 ']\n",
      "['1', '1', 'Izze', '[Clementine]', '$3.39 ']\n",
      "['1', '1', 'Nantucket Nectar', '[Apple]', '$3.39 ']\n",
      "['1', '1', 'Chips and Tomatillo-Green Chili Salsa', 'NULL', '$2.39 ']\n",
      "['2', '2', 'Chicken Bowl', '[Tomatillo-Red Chili Salsa (Hot), [Black Beans, Rice, Cheese, Sour Cream]]', '$16.98 ']\n",
      "['3', '1', 'Chicken Bowl', '[Fresh Tomato Salsa (Mild), [Rice, Cheese, Sour Cream, Guacamole, Lettuce]]', '$10.98 ']\n",
      "['3', '1', 'Side of Chips', 'NULL', '$1.69 ']\n",
      "['4', '1', 'Steak Burrito', '[Tomatillo Red Chili Salsa, [Fajita Vegetables, Black Beans, Pinto Beans, Cheese, Sour Cream, Guacamole, Lettuce]]', '$11.75 ']\n",
      "['4', '1', 'Steak Soft Tacos', '[Tomatillo Green Chili Salsa, [Pinto Beans, Cheese, Sour Cream, Lettuce]]', '$9.25 ']\n",
      "['5', '1', 'Steak Burrito', '[Fresh Tomato Salsa, [Rice, Black Beans, Pinto Beans, Cheese, Sour Cream, Lettuce]]', '$9.25 ']\n",
      "['5', '1', 'Chips and Guacamole', 'NULL', '$4.45 ']\n",
      "['6', '1', 'Chicken Crispy Tacos', '[Roasted Chili Corn Salsa, [Fajita Vegetables, Rice, Black Beans, Cheese, Sour Cream]]', '$8.75 ']\n",
      "['6', '1', 'Chicken Soft Tacos', '[Roasted Chili Corn Salsa, [Rice, Black Beans, Cheese, Sour Cream]]', '$8.75 ']\n",
      "['7', '1', 'Chicken Bowl', '[Fresh Tomato Salsa, [Fajita Vegetables, Rice, Cheese, Sour Cream, Guacamole]]', '$11.25 ']\n",
      "['7', '1', 'Chips and Guacamole', 'NULL', '$4.45 ']\n",
      "['8', '1', 'Chips and Tomatillo-Green Chili Salsa', 'NULL', '$2.39 ']\n",
      "['8', '1', 'Chicken Burrito', '[Tomatillo-Green Chili Salsa (Medium), [Pinto Beans, Cheese, Sour Cream]]', '$8.49 ']\n",
      "['9', '1', 'Chicken Burrito', '[Fresh Tomato Salsa (Mild), [Black Beans, Rice, Cheese, Sour Cream, Lettuce]]', '$8.49 ']\n",
      "['9', '2', 'Canned Soda', '[Sprite]', '$2.18 ']\n",
      "['10', '1', 'Chicken Bowl', '[Tomatillo Red Chili Salsa, [Fajita Vegetables, Black Beans, Sour Cream, Cheese, Lettuce]]', '$8.75 ']\n"
     ]
    }
   ],
   "source": [
    "# The quantity column does not appear to be relevant, because the item_price already reflects the cost for the total \n",
    "# quantity of items in the order. For example, a line with 1 Canned Soda has an item_price of 1.09, while a line with\n",
    "# 2 Canned Sodas has an item_price of 2.18.\n",
    "\n",
    "print(header)\n",
    "for x in range(20):\n",
    "    print(data[x])"
   ]
  },
  {
   "cell_type": "code",
   "execution_count": 56,
   "metadata": {
    "collapsed": true
   },
   "outputs": [
    {
     "name": "stdout",
     "output_type": "stream",
     "text": [
      "18.811428571428824\n"
     ]
    }
   ],
   "source": [
    "# I calculate the average price of an order by summing the item_price column, to get all dollars spent, and \n",
    "# dividing by the length of the set of order numbers, to get the number of distinct orders. \n",
    "\n",
    "total_spent = 0\n",
    "orders = set()\n",
    "\n",
    "for row in data:\n",
    "    orders.add(row[0])\n",
    "    total_spent += float(row[4][1:])\n",
    "\n",
    "number_of_orders = len(orders)\n",
    "\n",
    "print(total_spent / number_of_orders)"
   ]
  },
  {
   "cell_type": "markdown",
   "metadata": {},
   "source": [
    "### Part 4: Create a list (or set) named `unique_sodas` containing all of unique sodas and soft drinks that Chipotle sells.\n",
    "\n",
    "Note: Just look for `'Canned Soda'` and `'Canned Soft Drink'`, and ignore other drinks like `'Izze'`."
   ]
  },
  {
   "cell_type": "code",
   "execution_count": 55,
   "metadata": {
    "collapsed": true
   },
   "outputs": [
    {
     "name": "stdout",
     "output_type": "stream",
     "text": [
      "{'Mountain Dew', 'Diet Coke', 'Lemonade', 'Nestea', 'Diet Dr. Pepper', 'Sprite', 'Coke', 'Dr. Pepper', 'Coca Cola'}\n"
     ]
    }
   ],
   "source": [
    "# For each row where the item_name attribute is 'Canned Soda' or 'Canned Soft Drink', the choice_description attribute\n",
    "# gives the soda's brand name. I build a set of sodas, which increases only when a previously unseen soda is reached.\n",
    "\n",
    "unique_sodas = set()\n",
    "\n",
    "for row in data:\n",
    "    if row[2] in ['Canned Soda', 'Canned Soft Drink']:\n",
    "        unique_sodas.add(row[3][1:-1])\n",
    "\n",
    "print(unique_sodas)"
   ]
  },
  {
   "cell_type": "markdown",
   "metadata": {},
   "source": [
    "---\n",
    "\n",
    "## Advanced Level\n"
   ]
  },
  {
   "cell_type": "markdown",
   "metadata": {},
   "source": [
    "### Part 5: Calculate the average number of toppings per burrito.\n",
    "\n",
    "Note: Let's ignore the `quantity` column to simplify this task.\n",
    "\n",
    "Hint: Think carefully about the easiest way to count the number of toppings!\n"
   ]
  },
  {
   "cell_type": "code",
   "execution_count": 54,
   "metadata": {
    "collapsed": true
   },
   "outputs": [
    {
     "name": "stdout",
     "output_type": "stream",
     "text": [
      "5.395051194539249\n"
     ]
    }
   ],
   "source": [
    "# The average number of toppings per burrito will be the total number of toppings ordered for burritos divided by the \n",
    "# total number of burritos ordered. I iterate through the data, incrementing burrito_count when item_name has the string\n",
    "# 'Burrito' and incrementing topping count for each comma in item_description. I then add one more topping for each\n",
    "# item_description, because there will be one fewer commas than toppings.\n",
    "\n",
    "topping_count = 0\n",
    "burrito_count = 0\n",
    "\n",
    "for row in data:\n",
    "    if 'Burrito' in row[2]:\n",
    "        burrito_count += 1\n",
    "        for letter in row[3]:\n",
    "            if letter == ',':\n",
    "                topping_count += 1\n",
    "        topping_count += 1\n",
    "\n",
    "print(topping_count/burrito_count)"
   ]
  },
  {
   "cell_type": "markdown",
   "metadata": {},
   "source": [
    "### Part 6: Create a dictionary. Let the keys represent chip orders and the values represent the total number of orders.\n",
    "\n",
    "Expected output: `{'Chips and Roasted Chili-Corn Salsa': 18, ... }`\n",
    "\n",
    "Note: Please take the `quantity` column into account!\n",
    "\n",
    "Optional: Learn how to use `.defaultdict()` to simplify your code."
   ]
  },
  {
   "cell_type": "code",
   "execution_count": 53,
   "metadata": {
    "collapsed": true
   },
   "outputs": [
    {
     "name": "stdout",
     "output_type": "stream",
     "text": [
      "{'Chips and Fresh Tomato Salsa': 110, 'Chips and Tomatillo-Green Chili Salsa': 31, 'Side of Chips': 101, 'Chips and Guacamole': 479, 'Chips and Tomatillo Green Chili Salsa': 43, 'Chips': 211, 'Chips and Tomatillo Red Chili Salsa': 48, 'Chips and Roasted Chili-Corn Salsa': 18, 'Chips and Roasted Chili Corn Salsa': 22, 'Chips and Tomatillo-Red Chili Salsa': 20, 'Chips and Mild Fresh Tomato Salsa': 1}\n"
     ]
    }
   ],
   "source": [
    "# I iterate through the data, checking for rows where item_name includes 'Chips'. When I reach such a row, I check to see\n",
    "# if the item_name is already in my dictionary. If it is, then I increment the value associated with that item_name, and if\n",
    "# it isn't, I add a new key-value pair, with item_name for the key and 1 for the value, since that row is the first time I\n",
    "# will have seen that item_name.\n",
    "\n",
    "chips_dict = {}\n",
    "\n",
    "for row in data:\n",
    "    if 'Chips' in row[2]:\n",
    "        if row[2] in chips_dict:\n",
    "            chips_dict[row[2]] += 1\n",
    "        else:\n",
    "            chips_dict[row[2]] = 1\n",
    "\n",
    "print(chips_dict)"
   ]
  },
  {
   "cell_type": "markdown",
   "metadata": {},
   "source": [
    "---\n",
    "\n",
    "## Bonus: Craft a problem statement about this data that interests you, and then answer it!\n"
   ]
  }
 ],
 "metadata": {
  "anaconda-cloud": {},
  "kernelspec": {
   "display_name": "Python 3",
   "language": "python",
   "name": "python3"
  },
  "language_info": {
   "codemirror_mode": {
    "name": "ipython",
    "version": 3
   },
   "file_extension": ".py",
   "mimetype": "text/x-python",
   "name": "python",
   "nbconvert_exporter": "python",
   "pygments_lexer": "ipython3",
   "version": "3.6.6"
  }
 },
 "nbformat": 4,
 "nbformat_minor": 2
}
