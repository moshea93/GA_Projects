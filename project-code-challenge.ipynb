{
 "cells": [
  {
   "cell_type": "markdown",
   "metadata": {},
   "source": [
    "<img src=\"http://imgur.com/1ZcRyrc.png\" style=\"float: left; margin: 20px; height: 55px\">\n",
    "\n",
    "# Project 1: Python Coding Exercises\n",
    "\n",
    "_Authors: Joseph Nelson (DC) _\n",
    "\n",
    "---"
   ]
  },
  {
   "cell_type": "markdown",
   "metadata": {},
   "source": [
    "The following code challenges are drawn from common exercises used in technical interviews.\n",
    "\n",
    "Please note that there may be several ways to approach each challenge. If you get stuck, try mapping out your approach in pseudocode first. Finally, while solutions to problems like these may be found online, remember that if you copy/paste code that you can't explain, you'll be missing out on the point of the project. The only way to truly learn a new skill is through practice, trial, and error - we can only help you improve by understanding where you are having trouble."
   ]
  },
  {
   "cell_type": "markdown",
   "metadata": {},
   "source": [
    "### Challenge 1: Largest Palindrome\n",
    "A palindromic number reads the same both ways. For example, 1234321 is a palindrome. The largest palindrome made from the product of two two-digit numbers is 9009 = 91 × 99. Find the largest palindrome made from the product of two three-digit numbers. Afterward, write a brief explanation walking through your code's logic in markdown."
   ]
  },
  {
   "cell_type": "code",
   "execution_count": 37,
   "metadata": {
    "collapsed": true
   },
   "outputs": [
    {
     "name": "stdout",
     "output_type": "stream",
     "text": [
      "906609\n"
     ]
    }
   ],
   "source": [
    "largest_palindrome = -1\n",
    "for i in range(100, 1000):\n",
    "    j = 100\n",
    "    while j <= i:\n",
    "        currproduct = i*j\n",
    "        j += 1\n",
    "        \n",
    "        #If currproduct isn't bigger than largest_palindrome, no need to check if palindrome\n",
    "        if currproduct <= largest_palindrome:\n",
    "            continue\n",
    "            \n",
    "        #Check if each digit moving forward through the first half of the string is the same\n",
    "        #as the digit moving backwards through the second half of the string\n",
    "        currstr = str(currproduct)\n",
    "        is_palindrome = True\n",
    "        for position in range(round(len(currstr) / 2)):\n",
    "            if currstr[position] != currstr[-(position + 1)]:\n",
    "                is_palindrome = False\n",
    "                break\n",
    "            else:\n",
    "                continue\n",
    "        \n",
    "        if is_palindrome:\n",
    "            largest_palindrome = currproduct           \n",
    "        else:\n",
    "            continue\n",
    "print(largest_palindrome)"
   ]
  },
  {
   "cell_type": "markdown",
   "metadata": {},
   "source": [
    "My code iterates from 100 to 999 in the outer loop. Within each iteration, there is an inner loop that iterates from 100 to the outer loop number. \n",
    "\n",
    "For each number combination _i, j_, I check whether _i*j_ is larger than the current \n",
    "largest_palindrome, and, if so, I check whether the string representation of _i*j_ is a palindrome by iteratively comparing the first digit to the last, the second to the second-to-last, etc, stepping inward until I reach the middle of the string. \n",
    "\n",
    "If _i*j_ is larger than largest_palindrome, and the string rep of _i*j_ is a palindrome, I replace largest_palindrome with the product."
   ]
  },
  {
   "cell_type": "markdown",
   "metadata": {},
   "source": [
    "\n",
    "### Challenge 2: Summation of Primes\n",
    "The sum of the primes below 10 is 2 + 3 + 5 + 7 = 17. Find the sum of all the primes below 2,000. Afterward, write a brief explanation walking through your code's logic in markdown."
   ]
  },
  {
   "cell_type": "code",
   "execution_count": 35,
   "metadata": {
    "collapsed": true
   },
   "outputs": [
    {
     "name": "stdout",
     "output_type": "stream",
     "text": [
      "277050\n"
     ]
    }
   ],
   "source": [
    "prime_sum = 0\n",
    "for i in range(2, 2000):\n",
    "    is_prime = True\n",
    "    for j in range (2, i):\n",
    "        if i % j == 0:\n",
    "            is_prime = False\n",
    "            break\n",
    "    if is_prime:\n",
    "        prime_sum += i\n",
    "print (prime_sum)"
   ]
  },
  {
   "cell_type": "markdown",
   "metadata": {},
   "source": [
    "My code iterates from 2 to 1999, checking whether each number i is evenly divided by any \n",
    "integer from 2 to i-1. If i is not evenly divided by any of those integers, it\n",
    "is prime, and I add i to the \"prime_sum\" running tally."
   ]
  },
  {
   "cell_type": "markdown",
   "metadata": {},
   "source": [
    "### Challenge 3: Multiples of 3 and 5\n",
    "If we list all of the natural numbers below 10 that are multiples of 3 or 5, we get 3, 5, 6, and 9. The sum of these multiples is 23. Find the sum of all the multiples of 3 and 5 below 1,000. Afterward, write a brief explanation walking through your code's logic in markdown."
   ]
  },
  {
   "cell_type": "code",
   "execution_count": 55,
   "metadata": {
    "collapsed": true
   },
   "outputs": [
    {
     "name": "stdout",
     "output_type": "stream",
     "text": [
      "233168\n",
      "CPU times: user 4 µs, sys: 1e+03 ns, total: 5 µs\n",
      "Wall time: 9.06 µs\n"
     ]
    }
   ],
   "source": [
    "multiple_sum = 0\n",
    "for i in range(1, 1000):\n",
    "    if i % 3 == 0 or i % 5 == 0:\n",
    "        multiple_sum += i\n",
    "print(multiple_sum)"
   ]
  },
  {
   "cell_type": "markdown",
   "metadata": {},
   "source": [
    "My code iterates from 1 to 1000, checking whether each number i is evenly divided by 3 or 5.\n",
    "If so, I add i to the \"multiple_sum\" running tally."
   ]
  },
  {
   "cell_type": "markdown",
   "metadata": {},
   "source": [
    "### Challenge 4: String Compressor\n",
    "Implement a method to perform basic string compression using the counts of repeated characters. (This is called run-length encoding.) For example, the string \"aabcccccaaa\" would become a2b1c5a3. If the “compressed” string would not become smaller than the original string, your method should return the original string. You can assume the string has only uppercase and lowercase letters (a–z). Specify whether your solution is case sensitive or case insensitive and what you would need to change to make it the other. Afterward, write a brief explanation walking through your code's logic in markdown."
   ]
  },
  {
   "cell_type": "code",
   "execution_count": 58,
   "metadata": {
    "collapsed": true
   },
   "outputs": [
    {
     "name": "stdout",
     "output_type": "stream",
     "text": [
      "a2b1c5a1\n",
      "aabcd\n"
     ]
    }
   ],
   "source": [
    "def string_compression(input_string):\n",
    "    output_string = \"\"\n",
    "    letter_count = 1\n",
    "    last_letter = input_string[0]\n",
    "    for letter in input_string[1:]:\n",
    "        if letter == last_letter:\n",
    "            letter_count += 1\n",
    "        else:\n",
    "            output_string = output_string + last_letter + str(letter_count)\n",
    "            last_letter = letter\n",
    "            letter_count = 1\n",
    "    output_string = output_string + last_letter + str(letter_count)\n",
    "    \n",
    "    if len(output_string) >= len(input_string):\n",
    "        return input_string\n",
    "    else:\n",
    "        return output_string\n",
    "            \n",
    "print(string_compression(\"aabccccca\"))\n",
    "print(\"aabcd\")"
   ]
  },
  {
   "cell_type": "markdown",
   "metadata": {},
   "source": [
    "My code iterates through the input string, from the second letter to the last, keeping track of the last letter seen and how many of that letter in a row have been seen. When a new letter is reached, the last letter and its count are appended to the output string.\n",
    "\n",
    "The first letter is accounted for before my loop, and the last addition to the output string is accounted for after exiting the loop, because those cases don't output correctly within the loop.\n",
    "\n",
    "Finally, I check the lengths of the input and output strings, and return the shorter of the two."
   ]
  },
  {
   "cell_type": "markdown",
   "metadata": {},
   "source": [
    "### *BONUS* Challenge: FizzBuzz\n",
    "Write a program that prints all of the numbers from 1 to 100. For multiples of 3, instead of the number, print \"Fizz;\" for multiples of 5, print \"Buzz.\" For numbers that are multiples of both 3 and 5, print \"FizzBuzz.\" Afterward, write a brief explanation walking through your code's logic in markdown."
   ]
  },
  {
   "cell_type": "code",
   "execution_count": 45,
   "metadata": {
    "collapsed": true
   },
   "outputs": [
    {
     "name": "stdout",
     "output_type": "stream",
     "text": [
      "1\n",
      "2\n",
      "Fizz\n",
      "4\n",
      "Buzz\n",
      "Fizz\n",
      "7\n",
      "8\n",
      "Fizz\n",
      "Buzz\n",
      "11\n",
      "Fizz\n",
      "13\n",
      "14\n",
      "FizzBuzz\n",
      "16\n",
      "17\n",
      "Fizz\n",
      "19\n",
      "Buzz\n",
      "Fizz\n",
      "22\n",
      "23\n",
      "Fizz\n",
      "Buzz\n",
      "26\n",
      "Fizz\n",
      "28\n",
      "29\n",
      "FizzBuzz\n",
      "31\n",
      "32\n",
      "Fizz\n",
      "34\n",
      "Buzz\n",
      "Fizz\n",
      "37\n",
      "38\n",
      "Fizz\n",
      "Buzz\n",
      "41\n",
      "Fizz\n",
      "43\n",
      "44\n",
      "FizzBuzz\n",
      "46\n",
      "47\n",
      "Fizz\n",
      "49\n",
      "Buzz\n",
      "Fizz\n",
      "52\n",
      "53\n",
      "Fizz\n",
      "Buzz\n",
      "56\n",
      "Fizz\n",
      "58\n",
      "59\n",
      "FizzBuzz\n",
      "61\n",
      "62\n",
      "Fizz\n",
      "64\n",
      "Buzz\n",
      "Fizz\n",
      "67\n",
      "68\n",
      "Fizz\n",
      "Buzz\n",
      "71\n",
      "Fizz\n",
      "73\n",
      "74\n",
      "FizzBuzz\n",
      "76\n",
      "77\n",
      "Fizz\n",
      "79\n",
      "Buzz\n",
      "Fizz\n",
      "82\n",
      "83\n",
      "Fizz\n",
      "Buzz\n",
      "86\n",
      "Fizz\n",
      "88\n",
      "89\n",
      "FizzBuzz\n",
      "91\n",
      "92\n",
      "Fizz\n",
      "94\n",
      "Buzz\n",
      "Fizz\n",
      "97\n",
      "98\n",
      "Fizz\n",
      "Buzz\n"
     ]
    }
   ],
   "source": [
    "for i in range (1, 101):\n",
    "    if i % 15 == 0:\n",
    "        print (\"FizzBuzz\")\n",
    "    elif i % 3 == 0:\n",
    "        print (\"Fizz\")\n",
    "    elif i % 5 == 0:\n",
    "        print (\"Buzz\")\n",
    "    else:\n",
    "        print (i)"
   ]
  },
  {
   "cell_type": "markdown",
   "metadata": {},
   "source": [
    "My code iterates from 1 to 100. If a number is divisible by 3 and 5, it's divisible by 15, so my code prints Fizzbuzz. If it's not divisible by 15, but is divisible by 3, it prints Fizz. If it's not divisible by 15 or 3, but is divisible by 5, it prints Buzz. If it's not divisible by any of those, it prints the number."
   ]
  },
  {
   "cell_type": "code",
   "execution_count": null,
   "metadata": {},
   "outputs": [],
   "source": []
  }
 ],
 "metadata": {
  "anaconda-cloud": {},
  "kernelspec": {
   "display_name": "Python 3",
   "language": "python",
   "name": "python3"
  },
  "language_info": {
   "codemirror_mode": {
    "name": "ipython",
    "version": 3
   },
   "file_extension": ".py",
   "mimetype": "text/x-python",
   "name": "python",
   "nbconvert_exporter": "python",
   "pygments_lexer": "ipython3",
   "version": "3.6.6"
  }
 },
 "nbformat": 4,
 "nbformat_minor": 2
}
